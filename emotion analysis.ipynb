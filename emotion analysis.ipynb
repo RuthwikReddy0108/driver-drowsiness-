{
 "cells": [
  {
   "cell_type": "code",
   "execution_count": null,
   "id": "55c850b2",
   "metadata": {},
   "outputs": [],
   "source": [
    "import cv2\n",
    "import numpy as np\n",
    "import dlib\n",
    "from keras.models import load_model\n",
    "\n",
    "# Load the saved model\n",
    "model = load_model('/Users/chittireddyruthwik/model.h5')\n",
    "\n",
    "# Define the emotions and their corresponding labels\n",
    "emotions = ['angry', 'disgust', 'fear', 'happy', 'neutral', 'sad', 'surprise']\n",
    "\n",
    "# Load the face landmark predictor\n",
    "detector = dlib.get_frontal_face_detector()\n",
    "predictor = dlib.shape_predictor(\"/Users/chittireddyruthwik/Downloads/shape_predictor_68_face_landmarks.dat\")\n",
    "\n",
    "# Capture and process video frames\n",
    "cap = cv2.VideoCapture(0)\n",
    "\n",
    "while True:\n",
    "    ret, frame = cap.read()\n",
    "    if not ret:  # Check if frame is captured successfully\n",
    "        print(\"Failed to capture video frame\")\n",
    "        break\n",
    "\n",
    "    gray = cv2.cvtColor(frame, cv2.COLOR_BGR2GRAY)\n",
    "\n",
    "    faces = detector(gray)\n",
    "\n",
    "    for face in faces:\n",
    "        x1 = face.left()\n",
    "        y1 = face.top()\n",
    "        x2 = face.right()\n",
    "        y2 = face.bottom()\n",
    "        landmarks = predictor(gray, face)\n",
    "\n",
    "        # Extract face region\n",
    "        face_roi = gray[y1:y2, x1:x2]\n",
    "        face_roi = cv2.resize(face_roi, (48, 48))  # Resize to match input shape of model\n",
    "        face_roi = np.reshape(face_roi, [1, 48, 48, 1])  # Reshape to match input shape of model\n",
    "        face_roi = face_roi / 255.0  # Normalize pixel values to [0, 1]\n",
    "\n",
    "        # Make a prediction using the trained model\n",
    "        pred = model.predict(face_roi)\n",
    "\n",
    "        # Get the index of the predicted class label\n",
    "        pred_idx = np.argmax(pred)\n",
    "\n",
    "        # Draw predicted emotion label on frame\n",
    "        cv2.putText(frame, emotions[pred_idx], (x1, y1 - 10), cv2.FONT_HERSHEY_SIMPLEX, 0.7, (0, 0, 255), 2)\n",
    "\n",
    "    cv2.imshow('Emotion Analysis', frame)\n",
    "    if cv2.waitKey(1) & 0xFF == ord('q'):\n",
    "        break\n",
    "\n",
    "cap.release()\n",
    "cv2.destroyAllWindows()\n",
    "\n"
   ]
  },
  {
   "cell_type": "code",
   "execution_count": null,
   "id": "9d07f54d",
   "metadata": {},
   "outputs": [],
   "source": []
  },
  {
   "cell_type": "code",
   "execution_count": null,
   "id": "fdcbc4d5",
   "metadata": {},
   "outputs": [],
   "source": []
  },
  {
   "cell_type": "code",
   "execution_count": null,
   "id": "4fe13b08",
   "metadata": {},
   "outputs": [],
   "source": []
  }
 ],
 "metadata": {
  "kernelspec": {
   "display_name": "testenv",
   "language": "python",
   "name": "testenv"
  },
  "language_info": {
   "codemirror_mode": {
    "name": "ipython",
    "version": 3
   },
   "file_extension": ".py",
   "mimetype": "text/x-python",
   "name": "python",
   "nbconvert_exporter": "python",
   "pygments_lexer": "ipython3",
   "version": "3.10.10"
  }
 },
 "nbformat": 4,
 "nbformat_minor": 5
}
